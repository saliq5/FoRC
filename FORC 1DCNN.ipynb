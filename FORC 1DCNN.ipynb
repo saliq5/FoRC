{
  "nbformat": 4,
  "nbformat_minor": 0,
  "metadata": {
    "colab": {
      "provenance": [],
      "gpuType": "T4"
    },
    "kernelspec": {
      "name": "python3",
      "display_name": "Python 3"
    },
    "language_info": {
      "name": "python"
    },
    "accelerator": "GPU"
  },
  "cells": [
    {
      "cell_type": "code",
      "execution_count": null,
      "metadata": {
        "id": "6pjtzscZG7CZ"
      },
      "outputs": [],
      "source": [
        "import numpy as np\n",
        "import pandas as pd\n",
        "import transformers\n",
        "import torch\n",
        "import re\n",
        "from tqdm import tqdm\n",
        "from sklearn.model_selection import train_test_split\n",
        "from torch import nn\n",
        "import warnings\n",
        "warnings.filterwarnings(\"ignore\")"
      ]
    },
    {
      "cell_type": "code",
      "source": [
        "data = pd.read_csv('/content/drive/MyDrive/SC DATASET/train.csv')\n",
        "data.drop(['doi','url','publication month', 'publication year','publisher', 'data_index'], axis =1 , inplace = True)\n",
        "data = data.dropna()\n",
        "data.isnull().sum()\n",
        "data[\"text\"] = data[\"title\"] + data[\"abstract\"]"
      ],
      "metadata": {
        "id": "cYqIMlZrJdNZ"
      },
      "execution_count": null,
      "outputs": []
    },
    {
      "cell_type": "code",
      "source": [
        "def NLP_cleaning(text):\n",
        "    text_corpus = []\n",
        "    for sent in tqdm(text, desc='Cleaning'):\n",
        "        sent = re.sub('<[^>]*>', '', sent)\n",
        "        sent = re.sub('[^a-zA-z0-9]', ' ', sent)\n",
        "        sent = sent.lower()\n",
        "        text_corpus.append(sent)\n",
        "\n",
        "    return text_corpus"
      ],
      "metadata": {
        "id": "GUKPJ0yxJ7MI"
      },
      "execution_count": null,
      "outputs": []
    },
    {
      "cell_type": "code",
      "source": [
        "text = data.text.values.tolist()\n",
        "text_corpus = NLP_cleaning(text)\n",
        "data['text'] = text_corpus\n",
        "data['title'] = NLP_cleaning(data.title.values.tolist())\n",
        "data['author'] = NLP_cleaning(data.author.values.tolist())"
      ],
      "metadata": {
        "colab": {
          "base_uri": "https://localhost:8080/"
        },
        "id": "7q6Fuh8nKA6X",
        "outputId": "52c61a3b-f150-41f3-909f-fea7962c2c1f"
      },
      "execution_count": null,
      "outputs": [
        {
          "output_type": "stream",
          "name": "stderr",
          "text": [
            "Cleaning: 100%|██████████| 40332/40332 [00:02<00:00, 16871.13it/s]\n",
            "Cleaning: 100%|██████████| 40332/40332 [00:00<00:00, 149746.98it/s]\n",
            "Cleaning: 100%|██████████| 40332/40332 [00:00<00:00, 113439.31it/s]\n"
          ]
        }
      ]
    },
    {
      "cell_type": "code",
      "source": [
        "from sklearn.preprocessing import LabelEncoder\n",
        "label_encoder = LabelEncoder()\n",
        "data['label_number'] = label_encoder.fit_transform(data['label'])\n",
        "data"
      ],
      "metadata": {
        "colab": {
          "base_uri": "https://localhost:8080/",
          "height": 597
        },
        "id": "YYJdPMc1KDrw",
        "outputId": "b7524074-0c4a-4736-a2ec-9ba95ed3c252"
      },
      "execution_count": null,
      "outputs": [
        {
          "output_type": "execute_result",
          "data": {
            "text/plain": [
              "                                                abstract  \\\n",
              "0      the production of b jets in association with a...   \n",
              "1      instabilities in the price dynamics of a large...   \n",
              "2      large information sizes in samples and feature...   \n",
              "3      we consider polygonal billiards with collision...   \n",
              "4      Bauxite deposits of Jharkhand in India are res...   \n",
              "...                                                  ...   \n",
              "41534  programs offered by academic institutions in h...   \n",
              "41535  this research addresses the competencies organ...   \n",
              "41536  this paper studies an optimal stopping problem...   \n",
              "41537  we examine the possible extension of the param...   \n",
              "41539  what happens to the entropy increase principle...   \n",
              "\n",
              "                                                  author  \\\n",
              "0                                      cms collaboration   \n",
              "1      giacomo bormetti  lucio maria calcagnile  mich...   \n",
              "2                                 david banh  alan huang   \n",
              "3      gianluigi del magno  jo\\ ao lopes dias  pedro ...   \n",
              "4      [ e n  dhanamjaya rao    a t  jeyaseelan    k ...   \n",
              "...                                                  ...   \n",
              "41534                  [ alex ferworn    muthana zouri ]   \n",
              "41535        [ sabik khan    marcus ho    kamrul ahsan ]   \n",
              "41536                          diana dorobantu  lsproba    \n",
              "41537  john ellis  joel giedt  oleg lebedev  keith ol...   \n",
              "41539                                            k ghosh   \n",
              "\n",
              "                                                   title  \\\n",
              "0      measurement of the z gamma    b jet cross sect...   \n",
              "1      modelling systemic price cojumps with hawkes f...   \n",
              "2      encoding large information structures in linea...   \n",
              "3      hyperbolic polygonal billiards close to 1 dime...   \n",
              "4      analysis of aster data for mapping bauxite ric...   \n",
              "...                                                  ...   \n",
              "41534  an ontology based approach for curriculum mapp...   \n",
              "41535  recruiting project managers  a comparative ana...   \n",
              "41536  optimal stopping for l\\ evy processes and affi...   \n",
              "41537                               against tachyophobia   \n",
              "41539  studies on some aspects of the fundamental the...   \n",
              "\n",
              "                                    label  \\\n",
              "0                                 Physics   \n",
              "1                    Quantitative Finance   \n",
              "2                        Machine Learning   \n",
              "3              Dynamics/Dynamical Systems   \n",
              "4                               Sociology   \n",
              "...                                   ...   \n",
              "41534                Computer Engineering   \n",
              "41535                           Sociology   \n",
              "41536          Statistics and Probability   \n",
              "41537                             Physics   \n",
              "41539  Cosmology, Relativity, and Gravity   \n",
              "\n",
              "                                                    text  label_number  \n",
              "0      measurement of the z gamma    b jet cross sect...            95  \n",
              "1      modelling systemic price cojumps with hawkes f...           105  \n",
              "2      encoding large information structures in linea...            67  \n",
              "3      hyperbolic polygonal billiards close to 1 dime...            41  \n",
              "4      analysis of aster data for mapping bauxite ric...           114  \n",
              "...                                                  ...           ...  \n",
              "41534  an ontology based approach for curriculum mapp...            25  \n",
              "41535  recruiting project managers  a comparative ana...           114  \n",
              "41536  optimal stopping for l\\ evy processes and affi...           118  \n",
              "41537  against tachyophobiawe examine the possible ex...            95  \n",
              "41539  studies on some aspects of the fundamental the...            34  \n",
              "\n",
              "[40332 rows x 6 columns]"
            ],
            "text/html": [
              "\n",
              "  <div id=\"df-6268cd7c-d37c-4d17-8182-bff4a36fcd7d\" class=\"colab-df-container\">\n",
              "    <div>\n",
              "<style scoped>\n",
              "    .dataframe tbody tr th:only-of-type {\n",
              "        vertical-align: middle;\n",
              "    }\n",
              "\n",
              "    .dataframe tbody tr th {\n",
              "        vertical-align: top;\n",
              "    }\n",
              "\n",
              "    .dataframe thead th {\n",
              "        text-align: right;\n",
              "    }\n",
              "</style>\n",
              "<table border=\"1\" class=\"dataframe\">\n",
              "  <thead>\n",
              "    <tr style=\"text-align: right;\">\n",
              "      <th></th>\n",
              "      <th>abstract</th>\n",
              "      <th>author</th>\n",
              "      <th>title</th>\n",
              "      <th>label</th>\n",
              "      <th>text</th>\n",
              "      <th>label_number</th>\n",
              "    </tr>\n",
              "  </thead>\n",
              "  <tbody>\n",
              "    <tr>\n",
              "      <th>0</th>\n",
              "      <td>the production of b jets in association with a...</td>\n",
              "      <td>cms collaboration</td>\n",
              "      <td>measurement of the z gamma    b jet cross sect...</td>\n",
              "      <td>Physics</td>\n",
              "      <td>measurement of the z gamma    b jet cross sect...</td>\n",
              "      <td>95</td>\n",
              "    </tr>\n",
              "    <tr>\n",
              "      <th>1</th>\n",
              "      <td>instabilities in the price dynamics of a large...</td>\n",
              "      <td>giacomo bormetti  lucio maria calcagnile  mich...</td>\n",
              "      <td>modelling systemic price cojumps with hawkes f...</td>\n",
              "      <td>Quantitative Finance</td>\n",
              "      <td>modelling systemic price cojumps with hawkes f...</td>\n",
              "      <td>105</td>\n",
              "    </tr>\n",
              "    <tr>\n",
              "      <th>2</th>\n",
              "      <td>large information sizes in samples and feature...</td>\n",
              "      <td>david banh  alan huang</td>\n",
              "      <td>encoding large information structures in linea...</td>\n",
              "      <td>Machine Learning</td>\n",
              "      <td>encoding large information structures in linea...</td>\n",
              "      <td>67</td>\n",
              "    </tr>\n",
              "    <tr>\n",
              "      <th>3</th>\n",
              "      <td>we consider polygonal billiards with collision...</td>\n",
              "      <td>gianluigi del magno  jo\\ ao lopes dias  pedro ...</td>\n",
              "      <td>hyperbolic polygonal billiards close to 1 dime...</td>\n",
              "      <td>Dynamics/Dynamical Systems</td>\n",
              "      <td>hyperbolic polygonal billiards close to 1 dime...</td>\n",
              "      <td>41</td>\n",
              "    </tr>\n",
              "    <tr>\n",
              "      <th>4</th>\n",
              "      <td>Bauxite deposits of Jharkhand in India are res...</td>\n",
              "      <td>[ e n  dhanamjaya rao    a t  jeyaseelan    k ...</td>\n",
              "      <td>analysis of aster data for mapping bauxite ric...</td>\n",
              "      <td>Sociology</td>\n",
              "      <td>analysis of aster data for mapping bauxite ric...</td>\n",
              "      <td>114</td>\n",
              "    </tr>\n",
              "    <tr>\n",
              "      <th>...</th>\n",
              "      <td>...</td>\n",
              "      <td>...</td>\n",
              "      <td>...</td>\n",
              "      <td>...</td>\n",
              "      <td>...</td>\n",
              "      <td>...</td>\n",
              "    </tr>\n",
              "    <tr>\n",
              "      <th>41534</th>\n",
              "      <td>programs offered by academic institutions in h...</td>\n",
              "      <td>[ alex ferworn    muthana zouri ]</td>\n",
              "      <td>an ontology based approach for curriculum mapp...</td>\n",
              "      <td>Computer Engineering</td>\n",
              "      <td>an ontology based approach for curriculum mapp...</td>\n",
              "      <td>25</td>\n",
              "    </tr>\n",
              "    <tr>\n",
              "      <th>41535</th>\n",
              "      <td>this research addresses the competencies organ...</td>\n",
              "      <td>[ sabik khan    marcus ho    kamrul ahsan ]</td>\n",
              "      <td>recruiting project managers  a comparative ana...</td>\n",
              "      <td>Sociology</td>\n",
              "      <td>recruiting project managers  a comparative ana...</td>\n",
              "      <td>114</td>\n",
              "    </tr>\n",
              "    <tr>\n",
              "      <th>41536</th>\n",
              "      <td>this paper studies an optimal stopping problem...</td>\n",
              "      <td>diana dorobantu  lsproba</td>\n",
              "      <td>optimal stopping for l\\ evy processes and affi...</td>\n",
              "      <td>Statistics and Probability</td>\n",
              "      <td>optimal stopping for l\\ evy processes and affi...</td>\n",
              "      <td>118</td>\n",
              "    </tr>\n",
              "    <tr>\n",
              "      <th>41537</th>\n",
              "      <td>we examine the possible extension of the param...</td>\n",
              "      <td>john ellis  joel giedt  oleg lebedev  keith ol...</td>\n",
              "      <td>against tachyophobia</td>\n",
              "      <td>Physics</td>\n",
              "      <td>against tachyophobiawe examine the possible ex...</td>\n",
              "      <td>95</td>\n",
              "    </tr>\n",
              "    <tr>\n",
              "      <th>41539</th>\n",
              "      <td>what happens to the entropy increase principle...</td>\n",
              "      <td>k ghosh</td>\n",
              "      <td>studies on some aspects of the fundamental the...</td>\n",
              "      <td>Cosmology, Relativity, and Gravity</td>\n",
              "      <td>studies on some aspects of the fundamental the...</td>\n",
              "      <td>34</td>\n",
              "    </tr>\n",
              "  </tbody>\n",
              "</table>\n",
              "<p>40332 rows × 6 columns</p>\n",
              "</div>\n",
              "    <div class=\"colab-df-buttons\">\n",
              "\n",
              "  <div class=\"colab-df-container\">\n",
              "    <button class=\"colab-df-convert\" onclick=\"convertToInteractive('df-6268cd7c-d37c-4d17-8182-bff4a36fcd7d')\"\n",
              "            title=\"Convert this dataframe to an interactive table.\"\n",
              "            style=\"display:none;\">\n",
              "\n",
              "  <svg xmlns=\"http://www.w3.org/2000/svg\" height=\"24px\" viewBox=\"0 -960 960 960\">\n",
              "    <path d=\"M120-120v-720h720v720H120Zm60-500h600v-160H180v160Zm220 220h160v-160H400v160Zm0 220h160v-160H400v160ZM180-400h160v-160H180v160Zm440 0h160v-160H620v160ZM180-180h160v-160H180v160Zm440 0h160v-160H620v160Z\"/>\n",
              "  </svg>\n",
              "    </button>\n",
              "\n",
              "  <style>\n",
              "    .colab-df-container {\n",
              "      display:flex;\n",
              "      gap: 12px;\n",
              "    }\n",
              "\n",
              "    .colab-df-convert {\n",
              "      background-color: #E8F0FE;\n",
              "      border: none;\n",
              "      border-radius: 50%;\n",
              "      cursor: pointer;\n",
              "      display: none;\n",
              "      fill: #1967D2;\n",
              "      height: 32px;\n",
              "      padding: 0 0 0 0;\n",
              "      width: 32px;\n",
              "    }\n",
              "\n",
              "    .colab-df-convert:hover {\n",
              "      background-color: #E2EBFA;\n",
              "      box-shadow: 0px 1px 2px rgba(60, 64, 67, 0.3), 0px 1px 3px 1px rgba(60, 64, 67, 0.15);\n",
              "      fill: #174EA6;\n",
              "    }\n",
              "\n",
              "    .colab-df-buttons div {\n",
              "      margin-bottom: 4px;\n",
              "    }\n",
              "\n",
              "    [theme=dark] .colab-df-convert {\n",
              "      background-color: #3B4455;\n",
              "      fill: #D2E3FC;\n",
              "    }\n",
              "\n",
              "    [theme=dark] .colab-df-convert:hover {\n",
              "      background-color: #434B5C;\n",
              "      box-shadow: 0px 1px 3px 1px rgba(0, 0, 0, 0.15);\n",
              "      filter: drop-shadow(0px 1px 2px rgba(0, 0, 0, 0.3));\n",
              "      fill: #FFFFFF;\n",
              "    }\n",
              "  </style>\n",
              "\n",
              "    <script>\n",
              "      const buttonEl =\n",
              "        document.querySelector('#df-6268cd7c-d37c-4d17-8182-bff4a36fcd7d button.colab-df-convert');\n",
              "      buttonEl.style.display =\n",
              "        google.colab.kernel.accessAllowed ? 'block' : 'none';\n",
              "\n",
              "      async function convertToInteractive(key) {\n",
              "        const element = document.querySelector('#df-6268cd7c-d37c-4d17-8182-bff4a36fcd7d');\n",
              "        const dataTable =\n",
              "          await google.colab.kernel.invokeFunction('convertToInteractive',\n",
              "                                                    [key], {});\n",
              "        if (!dataTable) return;\n",
              "\n",
              "        const docLinkHtml = 'Like what you see? Visit the ' +\n",
              "          '<a target=\"_blank\" href=https://colab.research.google.com/notebooks/data_table.ipynb>data table notebook</a>'\n",
              "          + ' to learn more about interactive tables.';\n",
              "        element.innerHTML = '';\n",
              "        dataTable['output_type'] = 'display_data';\n",
              "        await google.colab.output.renderOutput(dataTable, element);\n",
              "        const docLink = document.createElement('div');\n",
              "        docLink.innerHTML = docLinkHtml;\n",
              "        element.appendChild(docLink);\n",
              "      }\n",
              "    </script>\n",
              "  </div>\n",
              "\n",
              "\n",
              "<div id=\"df-2de9c3e7-db98-4744-b8b9-140e54fee31c\">\n",
              "  <button class=\"colab-df-quickchart\" onclick=\"quickchart('df-2de9c3e7-db98-4744-b8b9-140e54fee31c')\"\n",
              "            title=\"Suggest charts\"\n",
              "            style=\"display:none;\">\n",
              "\n",
              "<svg xmlns=\"http://www.w3.org/2000/svg\" height=\"24px\"viewBox=\"0 0 24 24\"\n",
              "     width=\"24px\">\n",
              "    <g>\n",
              "        <path d=\"M19 3H5c-1.1 0-2 .9-2 2v14c0 1.1.9 2 2 2h14c1.1 0 2-.9 2-2V5c0-1.1-.9-2-2-2zM9 17H7v-7h2v7zm4 0h-2V7h2v10zm4 0h-2v-4h2v4z\"/>\n",
              "    </g>\n",
              "</svg>\n",
              "  </button>\n",
              "\n",
              "<style>\n",
              "  .colab-df-quickchart {\n",
              "      --bg-color: #E8F0FE;\n",
              "      --fill-color: #1967D2;\n",
              "      --hover-bg-color: #E2EBFA;\n",
              "      --hover-fill-color: #174EA6;\n",
              "      --disabled-fill-color: #AAA;\n",
              "      --disabled-bg-color: #DDD;\n",
              "  }\n",
              "\n",
              "  [theme=dark] .colab-df-quickchart {\n",
              "      --bg-color: #3B4455;\n",
              "      --fill-color: #D2E3FC;\n",
              "      --hover-bg-color: #434B5C;\n",
              "      --hover-fill-color: #FFFFFF;\n",
              "      --disabled-bg-color: #3B4455;\n",
              "      --disabled-fill-color: #666;\n",
              "  }\n",
              "\n",
              "  .colab-df-quickchart {\n",
              "    background-color: var(--bg-color);\n",
              "    border: none;\n",
              "    border-radius: 50%;\n",
              "    cursor: pointer;\n",
              "    display: none;\n",
              "    fill: var(--fill-color);\n",
              "    height: 32px;\n",
              "    padding: 0;\n",
              "    width: 32px;\n",
              "  }\n",
              "\n",
              "  .colab-df-quickchart:hover {\n",
              "    background-color: var(--hover-bg-color);\n",
              "    box-shadow: 0 1px 2px rgba(60, 64, 67, 0.3), 0 1px 3px 1px rgba(60, 64, 67, 0.15);\n",
              "    fill: var(--button-hover-fill-color);\n",
              "  }\n",
              "\n",
              "  .colab-df-quickchart-complete:disabled,\n",
              "  .colab-df-quickchart-complete:disabled:hover {\n",
              "    background-color: var(--disabled-bg-color);\n",
              "    fill: var(--disabled-fill-color);\n",
              "    box-shadow: none;\n",
              "  }\n",
              "\n",
              "  .colab-df-spinner {\n",
              "    border: 2px solid var(--fill-color);\n",
              "    border-color: transparent;\n",
              "    border-bottom-color: var(--fill-color);\n",
              "    animation:\n",
              "      spin 1s steps(1) infinite;\n",
              "  }\n",
              "\n",
              "  @keyframes spin {\n",
              "    0% {\n",
              "      border-color: transparent;\n",
              "      border-bottom-color: var(--fill-color);\n",
              "      border-left-color: var(--fill-color);\n",
              "    }\n",
              "    20% {\n",
              "      border-color: transparent;\n",
              "      border-left-color: var(--fill-color);\n",
              "      border-top-color: var(--fill-color);\n",
              "    }\n",
              "    30% {\n",
              "      border-color: transparent;\n",
              "      border-left-color: var(--fill-color);\n",
              "      border-top-color: var(--fill-color);\n",
              "      border-right-color: var(--fill-color);\n",
              "    }\n",
              "    40% {\n",
              "      border-color: transparent;\n",
              "      border-right-color: var(--fill-color);\n",
              "      border-top-color: var(--fill-color);\n",
              "    }\n",
              "    60% {\n",
              "      border-color: transparent;\n",
              "      border-right-color: var(--fill-color);\n",
              "    }\n",
              "    80% {\n",
              "      border-color: transparent;\n",
              "      border-right-color: var(--fill-color);\n",
              "      border-bottom-color: var(--fill-color);\n",
              "    }\n",
              "    90% {\n",
              "      border-color: transparent;\n",
              "      border-bottom-color: var(--fill-color);\n",
              "    }\n",
              "  }\n",
              "</style>\n",
              "\n",
              "  <script>\n",
              "    async function quickchart(key) {\n",
              "      const quickchartButtonEl =\n",
              "        document.querySelector('#' + key + ' button');\n",
              "      quickchartButtonEl.disabled = true;  // To prevent multiple clicks.\n",
              "      quickchartButtonEl.classList.add('colab-df-spinner');\n",
              "      try {\n",
              "        const charts = await google.colab.kernel.invokeFunction(\n",
              "            'suggestCharts', [key], {});\n",
              "      } catch (error) {\n",
              "        console.error('Error during call to suggestCharts:', error);\n",
              "      }\n",
              "      quickchartButtonEl.classList.remove('colab-df-spinner');\n",
              "      quickchartButtonEl.classList.add('colab-df-quickchart-complete');\n",
              "    }\n",
              "    (() => {\n",
              "      let quickchartButtonEl =\n",
              "        document.querySelector('#df-2de9c3e7-db98-4744-b8b9-140e54fee31c button');\n",
              "      quickchartButtonEl.style.display =\n",
              "        google.colab.kernel.accessAllowed ? 'block' : 'none';\n",
              "    })();\n",
              "  </script>\n",
              "</div>\n",
              "    </div>\n",
              "  </div>\n"
            ],
            "application/vnd.google.colaboratory.intrinsic+json": {
              "type": "dataframe",
              "variable_name": "data",
              "summary": "{\n  \"name\": \"data\",\n  \"rows\": 40332,\n  \"fields\": [\n    {\n      \"column\": \"abstract\",\n      \"properties\": {\n        \"dtype\": \"string\",\n        \"num_unique_values\": 40322,\n        \"samples\": [\n          \"the quark-model hyperon-nucleon interaction suggests an important antisymmetric spin-orbit component. it is generated from a color analogue of the fermi-breit interaction dominating in the one-gluon exchange process between quarks. we discuss the strength s_b of the single-particle spin-orbit potential, following the scheerbaum's prescription. using the su6 quark-model baryon-baryon interaction which was recently developed by the kyoto-niigata group, we calculate nn, lambda n and sigma n g-matrices in symmetric nuclear matter and apply them to estimate the strength s_b. the ratio of s_b to the nucleon strength s_n =~ -40 mev*fm^5 is (s_lambda)/(s_n) =~ 1/5 and (s_sigma)/(s_n) =~ 1/2 in the born approximation. the g-matrix calculation of the model fss modifies s_lambda to (s_lambda)/(s_n) =~ 1/12. for s_n and s_sigma, the effect of the short-range correlation is comparatively weak against meson-exchange potentials with a short-range repulsive core. the significant reduction of the lambda single-particle potential arises from the combined effect of the antisymmetric ls force, the flavor-symmetry breaking originating from the strange to up-down quark-mass difference, as well as the effect of the short-range correlation. the density dependence of s_b is also examined.\",\n          \"surveys in the 21cm line of neutral hydrogen are testing the completeness of the catalogs of nearby galaxies. the remarkable observational fact is that the potential wells that confine gas to sufficient density that it can remain neutral in the face of ionizing radiation also provide sites for star formation, so that there are no known cases of neutral intergalactic clouds without associated star light.\",\n          \"a key challenge in the task of human pose and shape estimation is occlusion, including self-occlusions, object-human occlusions, and inter-person occlusions. the lack of diverse and accurate pose and shape training data becomes a major bottleneck, especially for scenes with occlusions in the wild. in this paper, we focus on the estimation of human pose and shape in the case of inter-person occlusions, while also handling object-human occlusions and self-occlusion. we propose a novel framework that synthesizes occlusion-aware silhouette and 2d keypoints data and directly regress to the smpl pose and shape parameters. a neural 3d mesh renderer is exploited to enable silhouette supervision on the fly, which contributes to great improvements in shape estimation. in addition, keypoints-and-silhouette-driven training data in panoramic viewpoints are synthesized to compensate for the lack of viewpoint diversity in any existing dataset. experimental results show that we are among the state-of-the-art on the 3dpw and 3dpw-crowd datasets in terms of pose estimation accuracy. the proposed method evidently outperforms mesh transformer, 3dcrowdnet and romp in terms of shape estimation. top performance is also achieved on ssp-3d in terms of shape prediction accuracy. demo and code will be available at https://igame-lab.github.io/lasor/.\"\n        ],\n        \"semantic_type\": \"\",\n        \"description\": \"\"\n      }\n    },\n    {\n      \"column\": \"author\",\n      \"properties\": {\n        \"dtype\": \"string\",\n        \"num_unique_values\": 39463,\n        \"samples\": [\n          \"vasiliki a  mitsou  u  valencia  ific   for the moedal collaboration \",\n          \"jose a  magpantay\",\n          \"[ nailah al madi    j  j  merelo    pedro a  castillo    hossam faris    amaal r  al shorman ]\"\n        ],\n        \"semantic_type\": \"\",\n        \"description\": \"\"\n      }\n    },\n    {\n      \"column\": \"title\",\n      \"properties\": {\n        \"dtype\": \"string\",\n        \"num_unique_values\": 40329,\n        \"samples\": [\n          \"effectiveness of antenatal clinics to deliver intermittent preventive treatment and insecticide treated nets for the control of malaria in pregnancy in kenya\",\n          \"general relativity as a theory of two connections\",\n          \"quantized hydrodynamic model and the dynamic structure factor for a   trapped bose gas\"\n        ],\n        \"semantic_type\": \"\",\n        \"description\": \"\"\n      }\n    },\n    {\n      \"column\": \"label\",\n      \"properties\": {\n        \"dtype\": \"category\",\n        \"num_unique_values\": 123,\n        \"samples\": [\n          \"The Sun and the Solar System\",\n          \"Medicinal Chemistry and Pharmaceutics\",\n          \"Number Theory\"\n        ],\n        \"semantic_type\": \"\",\n        \"description\": \"\"\n      }\n    },\n    {\n      \"column\": \"text\",\n      \"properties\": {\n        \"dtype\": \"string\",\n        \"num_unique_values\": 40329,\n        \"samples\": [\n          \"effectiveness of antenatal clinics to deliver intermittent preventive treatment and insecticide treated nets for the control of malaria in pregnancy in kenyabackground malaria in pregnancy can have devastating consequences for mother and baby  coverage with the who prevention strategy for sub saharan africa of intermittent preventive treatment  iptp  with two doses of sulphadoxine pyrimethamine  sp  and insecticide treated nets  itns  in pregnancy is low  we analysed household survey data to evaluate the effectiveness of antenatal clinics  anc  to deliver iptp and itns to pregnant women in nyando district  kenya  methods we assessed the systems effectiveness of anc to deliver iptp and itns to pregnant women and the impact on low birthweight  lbw   logistic regression was used to identify predictors of receipt of iptp and itn use during pregnancy  results among 89  of recently pregnant women who attended anc at least once between 4 9 months gestation  59  reported receiving one dose of sp and 90  attended anc again  of whom 57  received a second dose  resulting in a cumulative effectiveness for iptp of 27   most of whom used an itn  96    overall itn use was 89   and anc the main source  76    women were less likely to receive iptp if they had low malaria knowledge  0 26  95  ci 0 08 0 83   had a child who had died  or 0 36  95  ci 0 14 0 95   or if they first attended anc late  or 0 20  95  ci 0 06 0 67   women who experienced side effects to sp  or 0 18  ci 0 03 0 90  or had low malaria knowledge  or 0 78  95  ci 0 11 5 43  were less likely to receive iptp by directly observed therapy  ineffective delivery of iptp reduced its potential impact by 231 lbw cases averted  95  ci 64 359  per 10 000 pregnant women  conclusion iptp presents greater challenges to deliver through anc than itns in this setting  the reduction in public health impact on lbw resulting from ineffective delivery of iptp is estimated to be substantial  urgent efforts are required to improve service delivery of this important intervention \",\n          \"general relativity as a theory of two connectionswe show in this paper that it is possible to formulate general relativity in a phase space coordinatized by two  so 3   connections  we analyze first the husain kucha\\\\v r  model and find a two connection description for it  introducing a suitable scalar constraint in this phase space we get a hamiltonian formulation of gravity that is close to the ashtekar one  from which it is derived  but has some interesting features of its own  among them a possible mechanism for dealing with the degenerate metrics and a neat way of writing the constraints of general relativity \",\n          \"quantized hydrodynamic model and the dynamic structure factor for a   trapped bose gaswe quantize the recent hydrodynamic analysis of stringari for the low energy collective modes of a trapped bose gas at  t 0   this is based on the time dependent gross pitaevskii equation  but omits the kinetic energy of the density fluctuations  we diagonalize the hydrodynamic hamiltonian in terms of the normal modes associated with the amplitude and phase of the inhomogeneous bose order parameter  these normal modes provide a convenient basis for calculating observable quantities  as applications  we calculate the depletion of the condensate at  t 0  as well as the inelastic light scattering cross section  s  \\\\bf q  \\\\omega   from low energy condensate fluctuations  the latter involves a sum over all normal modes  with a weight proportional to the square of the   \\\\bf q   fourier component of the density fluctuation associated with a given mode  finally  we show how the thomas fermi hydrodynamic description can be derived starting from the coupled bogoliubov equations \"\n        ],\n        \"semantic_type\": \"\",\n        \"description\": \"\"\n      }\n    },\n    {\n      \"column\": \"label_number\",\n      \"properties\": {\n        \"dtype\": \"number\",\n        \"std\": 38,\n        \"min\": 0,\n        \"max\": 122,\n        \"num_unique_values\": 123,\n        \"samples\": [\n          119,\n          75,\n          85\n        ],\n        \"semantic_type\": \"\",\n        \"description\": \"\"\n      }\n    }\n  ]\n}"
            }
          },
          "metadata": {},
          "execution_count": 5
        }
      ]
    },
    {
      "cell_type": "code",
      "source": [
        "val_df = pd.read_csv('/content/drive/MyDrive/SC DATASET/val.csv')\n",
        "val_df.drop(['doi','url','publication month', 'publication year','publisher', 'data_index'], axis =1 , inplace = True)\n",
        "val_df = val_df.dropna()\n",
        "val_df['label_number'] = label_encoder.transform(val_df['label'])\n",
        "val_df[\"text\"] = val_df[\"title\"] + val_df[\"abstract\"]\n",
        "val_df['title'] = NLP_cleaning(val_df.title.values.tolist())\n",
        "val_df['author'] = NLP_cleaning(val_df.author.values.tolist())\n",
        "val_df['abstract'] = NLP_cleaning(val_df.abstract.values.tolist())\n",
        "val_df['text'] = NLP_cleaning(val_df.text.values.tolist())\n"
      ],
      "metadata": {
        "colab": {
          "base_uri": "https://localhost:8080/"
        },
        "id": "7bSMZ_A_KGcQ",
        "outputId": "6c7ec39f-7610-4889-9606-38ccdf747d64"
      },
      "execution_count": null,
      "outputs": [
        {
          "output_type": "stream",
          "name": "stderr",
          "text": [
            "Cleaning: 100%|██████████| 8648/8648 [00:00<00:00, 158799.48it/s]\n",
            "Cleaning: 100%|██████████| 8648/8648 [00:00<00:00, 117177.27it/s]\n",
            "Cleaning: 100%|██████████| 8648/8648 [00:00<00:00, 18182.03it/s]\n",
            "Cleaning: 100%|██████████| 8648/8648 [00:00<00:00, 15951.69it/s]\n"
          ]
        }
      ]
    },
    {
      "cell_type": "code",
      "source": [
        "X=val_df[['text']].copy()\n",
        "y=val_df[['label_number']].copy()"
      ],
      "metadata": {
        "id": "YmquDy00KJVx"
      },
      "execution_count": null,
      "outputs": []
    },
    {
      "cell_type": "code",
      "source": [
        "val_text, test_text, val_labels, test_labels = train_test_split(X,y,random_state=2018,test_size=1,shuffle=True)"
      ],
      "metadata": {
        "id": "eOWR7iIILr3_"
      },
      "execution_count": null,
      "outputs": []
    },
    {
      "cell_type": "code",
      "source": [
        "train_text = data[[\"abstract\",\"author\",\"title\",\"text\"]].copy()"
      ],
      "metadata": {
        "id": "z8Zad7oPL119"
      },
      "execution_count": null,
      "outputs": []
    },
    {
      "cell_type": "code",
      "source": [
        "pip install sentence-transformers"
      ],
      "metadata": {
        "colab": {
          "base_uri": "https://localhost:8080/"
        },
        "id": "XJkvsUUINFO9",
        "outputId": "d75e80ab-4964-4546-fa10-d6066d52d4e3"
      },
      "execution_count": null,
      "outputs": [
        {
          "output_type": "stream",
          "name": "stdout",
          "text": [
            "Requirement already satisfied: sentence-transformers in /usr/local/lib/python3.10/dist-packages (2.3.1)\n",
            "Requirement already satisfied: transformers<5.0.0,>=4.32.0 in /usr/local/lib/python3.10/dist-packages (from sentence-transformers) (4.37.2)\n",
            "Requirement already satisfied: tqdm in /usr/local/lib/python3.10/dist-packages (from sentence-transformers) (4.66.2)\n",
            "Requirement already satisfied: torch>=1.11.0 in /usr/local/lib/python3.10/dist-packages (from sentence-transformers) (2.1.0+cu121)\n",
            "Requirement already satisfied: numpy in /usr/local/lib/python3.10/dist-packages (from sentence-transformers) (1.25.2)\n",
            "Requirement already satisfied: scikit-learn in /usr/local/lib/python3.10/dist-packages (from sentence-transformers) (1.2.2)\n",
            "Requirement already satisfied: scipy in /usr/local/lib/python3.10/dist-packages (from sentence-transformers) (1.11.4)\n",
            "Requirement already satisfied: nltk in /usr/local/lib/python3.10/dist-packages (from sentence-transformers) (3.8.1)\n",
            "Requirement already satisfied: sentencepiece in /usr/local/lib/python3.10/dist-packages (from sentence-transformers) (0.1.99)\n",
            "Requirement already satisfied: huggingface-hub>=0.15.1 in /usr/local/lib/python3.10/dist-packages (from sentence-transformers) (0.20.3)\n",
            "Requirement already satisfied: Pillow in /usr/local/lib/python3.10/dist-packages (from sentence-transformers) (9.4.0)\n",
            "Requirement already satisfied: filelock in /usr/local/lib/python3.10/dist-packages (from huggingface-hub>=0.15.1->sentence-transformers) (3.13.1)\n",
            "Requirement already satisfied: fsspec>=2023.5.0 in /usr/local/lib/python3.10/dist-packages (from huggingface-hub>=0.15.1->sentence-transformers) (2023.6.0)\n",
            "Requirement already satisfied: requests in /usr/local/lib/python3.10/dist-packages (from huggingface-hub>=0.15.1->sentence-transformers) (2.31.0)\n",
            "Requirement already satisfied: pyyaml>=5.1 in /usr/local/lib/python3.10/dist-packages (from huggingface-hub>=0.15.1->sentence-transformers) (6.0.1)\n",
            "Requirement already satisfied: typing-extensions>=3.7.4.3 in /usr/local/lib/python3.10/dist-packages (from huggingface-hub>=0.15.1->sentence-transformers) (4.9.0)\n",
            "Requirement already satisfied: packaging>=20.9 in /usr/local/lib/python3.10/dist-packages (from huggingface-hub>=0.15.1->sentence-transformers) (23.2)\n",
            "Requirement already satisfied: sympy in /usr/local/lib/python3.10/dist-packages (from torch>=1.11.0->sentence-transformers) (1.12)\n",
            "Requirement already satisfied: networkx in /usr/local/lib/python3.10/dist-packages (from torch>=1.11.0->sentence-transformers) (3.2.1)\n",
            "Requirement already satisfied: jinja2 in /usr/local/lib/python3.10/dist-packages (from torch>=1.11.0->sentence-transformers) (3.1.3)\n",
            "Requirement already satisfied: triton==2.1.0 in /usr/local/lib/python3.10/dist-packages (from torch>=1.11.0->sentence-transformers) (2.1.0)\n",
            "Requirement already satisfied: regex!=2019.12.17 in /usr/local/lib/python3.10/dist-packages (from transformers<5.0.0,>=4.32.0->sentence-transformers) (2023.12.25)\n",
            "Requirement already satisfied: tokenizers<0.19,>=0.14 in /usr/local/lib/python3.10/dist-packages (from transformers<5.0.0,>=4.32.0->sentence-transformers) (0.15.2)\n",
            "Requirement already satisfied: safetensors>=0.4.1 in /usr/local/lib/python3.10/dist-packages (from transformers<5.0.0,>=4.32.0->sentence-transformers) (0.4.2)\n",
            "Requirement already satisfied: click in /usr/local/lib/python3.10/dist-packages (from nltk->sentence-transformers) (8.1.7)\n",
            "Requirement already satisfied: joblib in /usr/local/lib/python3.10/dist-packages (from nltk->sentence-transformers) (1.3.2)\n",
            "Requirement already satisfied: threadpoolctl>=2.0.0 in /usr/local/lib/python3.10/dist-packages (from scikit-learn->sentence-transformers) (3.3.0)\n",
            "Requirement already satisfied: MarkupSafe>=2.0 in /usr/local/lib/python3.10/dist-packages (from jinja2->torch>=1.11.0->sentence-transformers) (2.1.5)\n",
            "Requirement already satisfied: charset-normalizer<4,>=2 in /usr/local/lib/python3.10/dist-packages (from requests->huggingface-hub>=0.15.1->sentence-transformers) (3.3.2)\n",
            "Requirement already satisfied: idna<4,>=2.5 in /usr/local/lib/python3.10/dist-packages (from requests->huggingface-hub>=0.15.1->sentence-transformers) (3.6)\n",
            "Requirement already satisfied: urllib3<3,>=1.21.1 in /usr/local/lib/python3.10/dist-packages (from requests->huggingface-hub>=0.15.1->sentence-transformers) (2.0.7)\n",
            "Requirement already satisfied: certifi>=2017.4.17 in /usr/local/lib/python3.10/dist-packages (from requests->huggingface-hub>=0.15.1->sentence-transformers) (2024.2.2)\n",
            "Requirement already satisfied: mpmath>=0.19 in /usr/local/lib/python3.10/dist-packages (from sympy->torch>=1.11.0->sentence-transformers) (1.3.0)\n"
          ]
        }
      ]
    },
    {
      "cell_type": "code",
      "source": [
        "from sentence_transformers import SentenceTransformer\n",
        "model = SentenceTransformer('all-MiniLM-L6-v2')"
      ],
      "metadata": {
        "id": "izOtcKNoYku1"
      },
      "execution_count": null,
      "outputs": []
    },
    {
      "cell_type": "code",
      "source": [
        "X_train = data['text']\n",
        "X_train = X_train.to_list()\n",
        "Y_train = data['label_number']\n",
        "Y_train = Y_train.to_list()"
      ],
      "metadata": {
        "id": "Ofpm-C4EYlDD"
      },
      "execution_count": null,
      "outputs": []
    },
    {
      "cell_type": "code",
      "source": [
        "X_test = val_df['text'].to_list()\n",
        "Y_test = val_df['label_number'].to_list()"
      ],
      "metadata": {
        "id": "7pWivIY6YrMQ"
      },
      "execution_count": null,
      "outputs": []
    },
    {
      "cell_type": "code",
      "source": [
        "import numpy as np\n",
        "import gensim.downloader as api\n",
        "\n",
        "# Download the Word2Vec model\n",
        "word2vec_model = api.load(\"word2vec-google-news-300\")\n",
        "\n",
        "# Define a function to encode a sentence using Word2Vec embeddings\n",
        "def encode_sentence(sentence, model, embedding_size=300):\n",
        "    tokens = sentence.split()\n",
        "    embeddings = np.zeros((len(tokens), embedding_size))\n",
        "    for i, token in enumerate(tokens):\n",
        "        if token in model:\n",
        "            embeddings[i] = model[token]\n",
        "    if embeddings.shape[0] == 0:\n",
        "        return np.zeros(embedding_size)  # Return zeros if no valid tokens found\n",
        "    else:\n",
        "        return np.mean(embeddings, axis=0)  # Average the word embeddings\n",
        "\n",
        "# Example usage:\n",
        "X_train_encoded = [encode_sentence(sentence, word2vec_model) for sentence in X_train]\n",
        "X_test_encoded = [encode_sentence(sentence, word2vec_model) for sentence in X_test]\n"
      ],
      "metadata": {
        "colab": {
          "base_uri": "https://localhost:8080/"
        },
        "id": "yhVDZBp9Ys6Y",
        "outputId": "46c0d2f3-2d28-4553-cb55-7a4cb9b81d92"
      },
      "execution_count": null,
      "outputs": [
        {
          "output_type": "stream",
          "name": "stdout",
          "text": [
            "[==================================----------------] 68.4% 1137.5/1662.8MB downloaded"
          ]
        }
      ]
    },
    {
      "cell_type": "code",
      "source": [
        "train_embeddings = X_train_encoded\n",
        "test_embeddings = X_test_encoded"
      ],
      "metadata": {
        "id": "YGJxWe20dT4e"
      },
      "execution_count": null,
      "outputs": []
    },
    {
      "cell_type": "code",
      "source": [
        "for i in range(0,len(train_embeddings)):\n",
        "  if(len(train_embeddings[i])!=100):\n",
        "    print(i, end=\",\")"
      ],
      "metadata": {
        "id": "fTa9hP2Kf2b3"
      },
      "execution_count": null,
      "outputs": []
    },
    {
      "cell_type": "code",
      "source": [],
      "metadata": {
        "id": "1P5kqjkygLUx"
      },
      "execution_count": null,
      "outputs": []
    },
    {
      "cell_type": "code",
      "source": [],
      "metadata": {
        "id": "tcziunCKnRFj"
      },
      "execution_count": null,
      "outputs": []
    },
    {
      "cell_type": "code",
      "source": [],
      "metadata": {
        "id": "xi9_6KFjgOXk"
      },
      "execution_count": null,
      "outputs": []
    },
    {
      "cell_type": "code",
      "source": [
        "import tensorflow as tf\n",
        "input_dim = 300\n",
        "num_classes = 123\n",
        "\n",
        "# Define the model architecture\n",
        "model = tf.keras.Sequential([\n",
        "    tf.keras.layers.Dense(128, activation='relu', input_shape=(input_dim,)),\n",
        "    tf.keras.layers.Dropout(0.2),\n",
        "    tf.keras.layers.Dense(256, activation='relu'),\n",
        "    tf.keras.layers.Dropout(0.2),\n",
        "    tf.keras.layers.Dense(512, activation='relu'),\n",
        "    tf.keras.layers.Dropout(0.2),\n",
        "    tf.keras.layers.Dense(num_classes, activation='softmax')\n",
        "])\n",
        "\n",
        "# Compile the model\n",
        "model.compile(optimizer='adam',\n",
        "              loss='sparse_categorical_crossentropy',\n",
        "              metrics=['accuracy'])\n",
        "\n",
        "# Print model summary\n",
        "model.summary()\n",
        "history = model.fit(train_embeddings, np.array(Y_train), epochs=30, batch_size=32)\n"
      ],
      "metadata": {
        "id": "p0tceBKvfQ6m"
      },
      "execution_count": null,
      "outputs": []
    },
    {
      "cell_type": "code",
      "source": [],
      "metadata": {
        "id": "dz05tcbbfrsx"
      },
      "execution_count": null,
      "outputs": []
    }
  ]
}